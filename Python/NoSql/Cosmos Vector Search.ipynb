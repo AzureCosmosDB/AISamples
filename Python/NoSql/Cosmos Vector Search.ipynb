{
 "cells": [
  {
   "cell_type": "code",
   "execution_count": 25,
   "id": "5eac9b93",
   "metadata": {},
   "outputs": [],
   "source": [
    "# ! pip install json\n",
    "# ! pip install python-dotenv\n",
    "\n",
    "# ! pip install openai\n",
    "\n",
    "# ! pip install gradio"
   ]
  },
  {
   "cell_type": "code",
   "execution_count": 149,
   "id": "c7cef1ce",
   "metadata": {},
   "outputs": [],
   "source": [
    "# Import the required libraries\n",
    "import time\n",
    "import os\n",
    "import json\n",
    "import uuid\n",
    "from dotenv import dotenv_values\n",
    "from openai import OpenAI, AzureOpenAI\n",
    "import gradio as gr\n",
    "\n",
    "\n",
    "#Cosmos DB imports\n",
    "from azure.cosmos import CosmosClient"
   ]
  },
  {
   "cell_type": "markdown",
   "id": "7fd5af23",
   "metadata": {},
   "source": [
    "## Load configs"
   ]
  },
  {
   "cell_type": "code",
   "execution_count": 153,
   "id": "b8e60b16",
   "metadata": {},
   "outputs": [],
   "source": [
    "# Variables\n",
    "# specify the name of the .env file name \n",
    "env_name = \"nosql_vanilla.env\" # following example.env template change to your own .env file name\n",
    "config = dotenv_values(env_name)\n",
    "\n",
    "cosmos_conn = config['cosmos_connection_string']\n",
    "cosmos_key = config['cosmos_key']\n",
    "cosmos_database = config['cosmos_database_name']\n",
    "cosmos_container = config['cosmos_container_name']\n",
    "\n",
    "openai_endpoint = config['openai_endpoint']\n",
    "openai_key = config['openai_key']\n",
    "openai_api_version = config['openai_version']\n",
    "openai_embeddings_deployment = config['openai_embeddings_deployment']\n",
    "openai_embeddings_model = config['openai_embeddings_model']\n",
    "openai_embeddings_dimensions = int(config['openai_embeddings_dimensions'])\n",
    "\n",
    "# Create the Azure Cosmos DB for NoSQL client\n",
    "cosmos_client = CosmosClient(url=cosmos_conn, credential=cosmos_key)\n",
    "\n",
    "os.environ[\"OPENAI_API_KEY\"] = \"\"\n",
    "client = OpenAI()\n",
    "\n",
    "azure_openai_embeddings = AzureOpenAI(\n",
    "    api_version=openai_api_version,\n",
    "    api_key= openai_key,\n",
    "    azure_endpoint= openai_endpoint,\n",
    ")"
   ]
  },
  {
   "cell_type": "markdown",
   "id": "785552a4",
   "metadata": {},
   "source": [
    "## Create database and container"
   ]
  },
  {
   "cell_type": "code",
   "execution_count": 151,
   "id": "93162193",
   "metadata": {},
   "outputs": [],
   "source": [
    "def get_vector_indexing_policy(embedding_path, embedding_type):\n",
    "    for i in range(0, len(embedding_type)):\n",
    "        vectorIndexes = []\n",
    "        vectorIndex = {\"path\": embedding_path[0], \"type\": f\"{embedding_type[0]}\"}\n",
    "        vectorIndexes.append(vectorIndex)\n",
    "        \n",
    "    return {\n",
    "        \"indexingMode\": \"consistent\",\n",
    "        \"includedPaths\": [{\"path\": \"/*\"}],\n",
    "        'excludedPaths': [{'path': '/\"_etag\"/?'}],\n",
    "        \"vectorIndexes\": vectorIndexes\n",
    "    }"
   ]
  },
  {
   "cell_type": "code",
   "execution_count": 152,
   "id": "9dcb2de9",
   "metadata": {},
   "outputs": [],
   "source": [
    "def get_vector_embedding_policy(embedding_path, distance_function, data_type, dimensions):\n",
    "    for i in range(0, len(distance_function)):\n",
    "        vectorEmbeddings = []\n",
    "        vectorEmbedding = {\n",
    "                    \"path\": embedding_path[0],\n",
    "                    \"dataType\": f\"{data_type[0]}\",\n",
    "                    \"dimensions\": dimensions[0],\n",
    "                    \"distanceFunction\": f\"{distance_function[0]}\"\n",
    "                }\n",
    "        vectorEmbeddings.append(vectorEmbedding)\n",
    "        \n",
    "    return {\n",
    "        \"vectorEmbeddings\": vectorEmbeddings\n",
    "    }"
   ]
  },
  {
   "cell_type": "code",
   "execution_count": 154,
   "id": "70dd6cfb",
   "metadata": {},
   "outputs": [
    {
     "name": "stdout",
     "output_type": "stream",
     "text": [
      "Database with id 'electronicsDB' created\n"
     ]
    }
   ],
   "source": [
    "database = cosmos_client.create_database_if_not_exists(cosmos_database)\n",
    "print('Database with id \\'{0}\\' created'.format(cosmos_database))"
   ]
  },
  {
   "cell_type": "code",
   "execution_count": 155,
   "id": "b93d3cd5",
   "metadata": {},
   "outputs": [],
   "source": [
    "from azure.cosmos.partition_key import PartitionKey\n",
    "indexing_policy=get_vector_indexing_policy(\n",
    "    embedding_path=[\"/EmbeddingCategory\", \"/EmbeddingName\"], \n",
    "    embedding_type=[\"quantizedFlat\", \"quantizedFlat\"])\n",
    "\n",
    "vector_embedding_policy=get_vector_embedding_policy(\n",
    "    embedding_path=[\"/EmbeddingCategory\", \"/EmbeddingName\"], \n",
    "    data_type=[\"float32\", \"float32\"],\n",
    "    distance_function=[\"cosine\", \"cosine\"],\n",
    "    dimensions=[1536,1536]) \n",
    "\n",
    "container = database.create_container_if_not_exists(\n",
    "    id=cosmos_container,\n",
    "    partition_key=PartitionKey(path=\"/id\"),\n",
    "    offer_throughput=30000,\n",
    "    indexing_policy=indexing_policy,\n",
    "    vector_embedding_policy=vector_embedding_policy   \n",
    ")"
   ]
  },
  {
   "cell_type": "markdown",
   "id": "92157bc2",
   "metadata": {},
   "source": [
    "## Load data, and insert in cosmos db"
   ]
  },
  {
   "cell_type": "code",
   "execution_count": 120,
   "id": "5225f5c9",
   "metadata": {},
   "outputs": [
    {
     "data": {
      "text/html": [
       "<div>\n",
       "<style scoped>\n",
       "    .dataframe tbody tr th:only-of-type {\n",
       "        vertical-align: middle;\n",
       "    }\n",
       "\n",
       "    .dataframe tbody tr th {\n",
       "        vertical-align: top;\n",
       "    }\n",
       "\n",
       "    .dataframe thead th {\n",
       "        text-align: right;\n",
       "    }\n",
       "</style>\n",
       "<table border=\"1\" class=\"dataframe\">\n",
       "  <thead>\n",
       "    <tr style=\"text-align: right;\">\n",
       "      <th></th>\n",
       "      <th>Transaction ID</th>\n",
       "      <th>Date</th>\n",
       "      <th>Product Category</th>\n",
       "      <th>Product Name</th>\n",
       "      <th>Units Sold</th>\n",
       "      <th>Unit Price</th>\n",
       "      <th>Total Revenue</th>\n",
       "      <th>Region</th>\n",
       "      <th>Payment Method</th>\n",
       "    </tr>\n",
       "  </thead>\n",
       "  <tbody>\n",
       "    <tr>\n",
       "      <th>0</th>\n",
       "      <td>10001</td>\n",
       "      <td>2024-01-01</td>\n",
       "      <td>Electronics</td>\n",
       "      <td>iPhone 14 Pro</td>\n",
       "      <td>2</td>\n",
       "      <td>999.99</td>\n",
       "      <td>1999.98</td>\n",
       "      <td>North America</td>\n",
       "      <td>Credit Card</td>\n",
       "    </tr>\n",
       "    <tr>\n",
       "      <th>1</th>\n",
       "      <td>10002</td>\n",
       "      <td>2024-01-02</td>\n",
       "      <td>Home Appliances</td>\n",
       "      <td>Dyson V11 Vacuum</td>\n",
       "      <td>1</td>\n",
       "      <td>499.99</td>\n",
       "      <td>499.99</td>\n",
       "      <td>Europe</td>\n",
       "      <td>PayPal</td>\n",
       "    </tr>\n",
       "    <tr>\n",
       "      <th>2</th>\n",
       "      <td>10003</td>\n",
       "      <td>2024-01-03</td>\n",
       "      <td>Clothing</td>\n",
       "      <td>Levi's 501 Jeans</td>\n",
       "      <td>3</td>\n",
       "      <td>69.99</td>\n",
       "      <td>209.97</td>\n",
       "      <td>Asia</td>\n",
       "      <td>Debit Card</td>\n",
       "    </tr>\n",
       "    <tr>\n",
       "      <th>3</th>\n",
       "      <td>10004</td>\n",
       "      <td>2024-01-04</td>\n",
       "      <td>Books</td>\n",
       "      <td>The Da Vinci Code</td>\n",
       "      <td>4</td>\n",
       "      <td>15.99</td>\n",
       "      <td>63.96</td>\n",
       "      <td>North America</td>\n",
       "      <td>Credit Card</td>\n",
       "    </tr>\n",
       "    <tr>\n",
       "      <th>4</th>\n",
       "      <td>10005</td>\n",
       "      <td>2024-01-05</td>\n",
       "      <td>Beauty Products</td>\n",
       "      <td>Neutrogena Skincare Set</td>\n",
       "      <td>1</td>\n",
       "      <td>89.99</td>\n",
       "      <td>89.99</td>\n",
       "      <td>Europe</td>\n",
       "      <td>PayPal</td>\n",
       "    </tr>\n",
       "  </tbody>\n",
       "</table>\n",
       "</div>"
      ],
      "text/plain": [
       "   Transaction ID        Date  ...         Region Payment Method\n",
       "0           10001  2024-01-01  ...  North America    Credit Card\n",
       "1           10002  2024-01-02  ...         Europe         PayPal\n",
       "2           10003  2024-01-03  ...           Asia     Debit Card\n",
       "3           10004  2024-01-04  ...  North America    Credit Card\n",
       "4           10005  2024-01-05  ...         Europe         PayPal\n",
       "\n",
       "[5 rows x 9 columns]"
      ]
     },
     "execution_count": 120,
     "metadata": {},
     "output_type": "execute_result"
    }
   ],
   "source": [
    "import pandas as pd\n",
    "\n",
    "df = pd.read_csv(\"Online Sales Data.csv\")\n",
    "df.head()"
   ]
  },
  {
   "cell_type": "code",
   "execution_count": 110,
   "id": "13006e1e",
   "metadata": {},
   "outputs": [],
   "source": [
    "for index, row in df.iterrows():\n",
    "    item = {\n",
    "        'id': str(row['Transaction ID']),  # Ensure 'id' is a string\n",
    "        'Name': row['Product Name'],\n",
    "        'Category': row['Product Category'],\n",
    "        'Price': row['Total Revenue'],\n",
    "        'PaymentMethod': row[\"Payment Method\"],\n",
    "        'EmbeddingCategory': generate_embeddings(row['Product Category']),\n",
    "        'EmbeddingName': generate_embeddings(row['Product Name']),\n",
    "        \n",
    "    }\n",
    "    container.create_item(body=item)"
   ]
  },
  {
   "cell_type": "code",
   "execution_count": 156,
   "id": "3460e344",
   "metadata": {},
   "outputs": [],
   "source": [
    "# generate openai embeddings\n",
    "def generate_embeddings(text):    \n",
    "    response = azure_openai_embeddings.embeddings.create(input=text, model=openai_embeddings_deployment)\n",
    "    embeddings =response.model_dump()\n",
    "    time.sleep(0.5) \n",
    "    return embeddings['data'][0]['embedding']"
   ]
  },
  {
   "cell_type": "markdown",
   "id": "a600a1f2",
   "metadata": {},
   "source": [
    "## Perform vector search"
   ]
  },
  {
   "cell_type": "code",
   "execution_count": 159,
   "id": "6236e516",
   "metadata": {},
   "outputs": [
    {
     "data": {
      "text/plain": [
       "[{'name': 'Adidas Ultraboost Shoes',\n",
       "  'category': 'Clothing',\n",
       "  'price': 359.98,\n",
       "  'score': 0.4304136592895864},\n",
       " {'name': 'Adidas Ultraboost Running Shoes',\n",
       "  'category': 'Clothing',\n",
       "  'price': 359.98,\n",
       "  'score': 0.40716167688055194},\n",
       " {'name': 'On Running Cloud Shoes',\n",
       "  'category': 'Sports',\n",
       "  'price': 259.98,\n",
       "  'score': 0.3865027981056846},\n",
       " {'name': 'Nike Air Force 1 Sneakers',\n",
       "  'category': 'Clothing',\n",
       "  'price': 270,\n",
       "  'score': 0.38127115146806323},\n",
       " {'name': 'Puma Suede Classic Sneakers',\n",
       "  'category': 'Clothing',\n",
       "  'price': 239.96,\n",
       "  'score': 0.37861581307732417}]"
      ]
     },
     "execution_count": 159,
     "metadata": {},
     "output_type": "execute_result"
    }
   ],
   "source": [
    "embeddings = generate_embeddings(\"Tell me some shoes that I can buy?\")\n",
    "query = (\n",
    "            \"SELECT TOP 5 c.Name, c.Category, c.Price, VectorDistance(c.EmbeddingName, {}) AS \"\n",
    "            \"SimilarityScore FROM c ORDER BY VectorDistance(c.EmbeddingName, {}) \".format(\n",
    "                embeddings,\n",
    "                embeddings,\n",
    "            )\n",
    "        )\n",
    "docs_and_scores = []\n",
    "items = list(\n",
    "    container.query_items(query=query, enable_cross_partition_query=True)\n",
    ")\n",
    "for item in items:\n",
    "    name = item[\"Name\"]\n",
    "    category = item[\"Category\"]\n",
    "    price = item[\"Price\"]\n",
    "    score = item[\"SimilarityScore\"]\n",
    "    docs_and_scores.append({\"name\": name, \"category\": category,\"price\": price, \"score\": score})\n",
    "docs_and_scores"
   ]
  },
  {
   "cell_type": "markdown",
   "id": "c6b261cf",
   "metadata": {},
   "source": [
    "## Filtered Vector Search"
   ]
  },
  {
   "cell_type": "code",
   "execution_count": 161,
   "id": "266f174f",
   "metadata": {},
   "outputs": [
    {
     "data": {
      "text/plain": [
       "[{'name': 'Adidas Ultraboost Shoes',\n",
       "  'category': 'Clothing',\n",
       "  'price': 359.98,\n",
       "  'score': 0.4304136592895864},\n",
       " {'name': 'Adidas Ultraboost Running Shoes',\n",
       "  'category': 'Clothing',\n",
       "  'price': 359.98,\n",
       "  'score': 0.40716167688055194}]"
      ]
     },
     "execution_count": 161,
     "metadata": {},
     "output_type": "execute_result"
    }
   ],
   "source": [
    "embeddings = generate_embeddings(\"Tell me some shoes that I can buy?\")\n",
    "query = (\n",
    "            \"SELECT c.Name, c.Category, c.Price, VectorDistance(c.EmbeddingName, {}) AS \"\n",
    "            \"SimilarityScore FROM c WHERE c.Price < 400 ORDER BY VectorDistance(c.EmbeddingName, {}) OFFSET 0 LIMIT 2\".format(\n",
    "                embeddings,\n",
    "                embeddings,\n",
    "            )\n",
    "        )\n",
    "docs_and_scores = []\n",
    "items = list(\n",
    "    container.query_items(query=query, enable_cross_partition_query=True)\n",
    ")\n",
    "for item in items:\n",
    "    name = item[\"Name\"]\n",
    "    category = item[\"Category\"]\n",
    "    price = item[\"Price\"]\n",
    "    score = item[\"SimilarityScore\"]\n",
    "    docs_and_scores.append({\"name\": name, \"category\": category,\"price\": price, \"score\": score})\n",
    "docs_and_scores"
   ]
  },
  {
   "cell_type": "code",
   "execution_count": null,
   "id": "83dfc654",
   "metadata": {},
   "outputs": [],
   "source": []
  }
 ],
 "metadata": {
  "kernelspec": {
   "display_name": "Python 3 (ipykernel)",
   "language": "python",
   "name": "python3"
  },
  "language_info": {
   "codemirror_mode": {
    "name": "ipython",
    "version": 3
   },
   "file_extension": ".py",
   "mimetype": "text/x-python",
   "name": "python",
   "nbconvert_exporter": "python",
   "pygments_lexer": "ipython3",
   "version": "3.11.4"
  }
 },
 "nbformat": 4,
 "nbformat_minor": 5
}
